{
 "cells": [
  {
   "cell_type": "code",
   "execution_count": 4,
   "id": "cba3ac25-25d6-488c-a80f-54a13de9ba40",
   "metadata": {},
   "outputs": [
    {
     "name": "stdout",
     "output_type": "stream",
     "text": [
      "44\n",
      "b'I8NmzjYqp3Uxe6cHJ2c6rHBTRmINyjAwuA2Xer3wPRg=' b\"#\\xc3f\\xce6*\\xa7u1{\\xa7\\x07'g:\\xacpSFb\\r\\xca00\\xb8\\r\\x97z\\xbd\\xf0=\\x18\" True 44\n",
      "b'hello you' b\"\\xbd\\xcfw\\r\\x0e\\xd7P\\x05\\xa7\\xaeiV\\x89\\xac\\xc24D\\xddC\\x9f\\xb2{+\\x1d\\x07A(M'f\\x9e\\xeb\\x00=\\x1d\\xb6\\xdav\\x0b\\x9fhE\\xe6\\xf5a\\xdf|\\x9d{\" b'hello you'\n"
     ]
    }
   ],
   "source": [
    "import numpy as np\n",
    "import sklearn as sk\n",
    "from nacl.public import PrivateKey, Box, PublicKey\n",
    "from nacl.encoding import Base64Encoder\n",
    "\n",
    "sk1 = PrivateKey.generate( )\n",
    "pk1 = sk1.public_key\n",
    "\n",
    "sk2 = PrivateKey.generate( )\n",
    "pk2 = sk2.public_key\n",
    "\n",
    "box1 = Box( sk1, pk2 )\n",
    "box2 = Box( sk2, pk1 )\n",
    "\n",
    "message1 = b'hello you'\n",
    "message2 = b'hello world'\n",
    "\n",
    "enc1 = box1.encrypt( message1 )\n",
    "enc2 = box2.encrypt( message2 )\n",
    "\n",
    "dec1 = box1.decrypt( enc1 )\n",
    "dec2 = box2.decrypt( enc2 )\n",
    "\n",
    "encoded = sk1.public_key.encode( Base64Encoder )\n",
    "print( len( encoded ) )\n",
    "decoded = PublicKey( Base64Encoder.decode( encoded ) )\n",
    "print( encoded, decoded, decoded == pk1, len( encoded ))\n",
    "\n",
    "box1 = Box( sk2, decoded )\n",
    "\n",
    "enc1 = box1.encrypt( message1 )\n",
    "dec1 = box1.decrypt( enc1 )\n",
    "\n",
    "print( message1, enc1, dec1 )\n",
    "\n"
   ]
  },
  {
   "cell_type": "code",
   "execution_count": null,
   "id": "7f52c972-f4f7-4805-a065-b806edbf55a8",
   "metadata": {},
   "outputs": [],
   "source": []
  }
 ],
 "metadata": {
  "kernelspec": {
   "display_name": "Python [conda env:base] *",
   "language": "python",
   "name": "conda-base-py"
  },
  "language_info": {
   "codemirror_mode": {
    "name": "ipython",
    "version": 3
   },
   "file_extension": ".py",
   "mimetype": "text/x-python",
   "name": "python",
   "nbconvert_exporter": "python",
   "pygments_lexer": "ipython3",
   "version": "3.12.9"
  }
 },
 "nbformat": 4,
 "nbformat_minor": 5
}
