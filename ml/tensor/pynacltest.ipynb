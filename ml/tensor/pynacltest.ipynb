{
 "cells": [
  {
   "cell_type": "code",
   "execution_count": 3,
   "id": "7b63ced4-ffa8-4a40-b4a8-6505f902a009",
   "metadata": {},
   "outputs": [
    {
     "name": "stdout",
     "output_type": "stream",
     "text": [
      "b'\\x10z\\x95\\xbd\\x8d\\x05QU;3\\x16\\x06\\x0c\\xed\\x98\\x14i\\xf8\\x98G\\x0c8\\xaf\\x9a\\x84A\\xadt\\xfc\\xb3*0'\n"
     ]
    },
    {
     "ename": "TypeError",
     "evalue": "Box must be created from a PrivateKey and a PublicKey",
     "output_type": "error",
     "traceback": [
      "\u001b[1;31m---------------------------------------------------------------------------\u001b[0m",
      "\u001b[1;31mTypeError\u001b[0m                                 Traceback (most recent call last)",
      "Cell \u001b[1;32mIn[3], line 16\u001b[0m\n\u001b[0;32m     12\u001b[0m pk1 \u001b[38;5;241m=\u001b[39m pk1\u001b[38;5;241m.\u001b[39mdecode( encoding\u001b[38;5;241m=\u001b[39m\u001b[38;5;124m\"\u001b[39m\u001b[38;5;124mutf-8\u001b[39m\u001b[38;5;124m\"\u001b[39m )\n\u001b[0;32m     13\u001b[0m pk2 \u001b[38;5;241m=\u001b[39m pk2\u001b[38;5;241m.\u001b[39mdecode( encoding\u001b[38;5;241m=\u001b[39m\u001b[38;5;124m\"\u001b[39m\u001b[38;5;124mutf-8\u001b[39m\u001b[38;5;124m\"\u001b[39m )\n\u001b[1;32m---> 16\u001b[0m b1 \u001b[38;5;241m=\u001b[39m Box( sk1, pk2 )\n\u001b[0;32m     17\u001b[0m b2 \u001b[38;5;241m=\u001b[39m Box( sk2, pk1 )\n\u001b[0;32m     18\u001b[0m help( pk1 )\n",
      "File \u001b[1;32m~\\anaconda3\\Lib\\site-packages\\nacl\\public.py:200\u001b[0m, in \u001b[0;36mBox.__init__\u001b[1;34m(self, private_key, public_key)\u001b[0m\n\u001b[0;32m    196\u001b[0m \u001b[38;5;28;01mdef\u001b[39;00m \u001b[38;5;21m__init__\u001b[39m(\u001b[38;5;28mself\u001b[39m, private_key: PrivateKey, public_key: PublicKey):\n\u001b[0;32m    197\u001b[0m     \u001b[38;5;28;01mif\u001b[39;00m \u001b[38;5;129;01mnot\u001b[39;00m \u001b[38;5;28misinstance\u001b[39m(private_key, PrivateKey) \u001b[38;5;129;01mor\u001b[39;00m \u001b[38;5;129;01mnot\u001b[39;00m \u001b[38;5;28misinstance\u001b[39m(\n\u001b[0;32m    198\u001b[0m         public_key, PublicKey\n\u001b[0;32m    199\u001b[0m     ):\n\u001b[1;32m--> 200\u001b[0m         \u001b[38;5;28;01mraise\u001b[39;00m exc\u001b[38;5;241m.\u001b[39mTypeError(\n\u001b[0;32m    201\u001b[0m             \u001b[38;5;124m\"\u001b[39m\u001b[38;5;124mBox must be created from a PrivateKey and a PublicKey\u001b[39m\u001b[38;5;124m\"\u001b[39m\n\u001b[0;32m    202\u001b[0m         )\n\u001b[0;32m    203\u001b[0m     \u001b[38;5;28mself\u001b[39m\u001b[38;5;241m.\u001b[39m_shared_key \u001b[38;5;241m=\u001b[39m nacl\u001b[38;5;241m.\u001b[39mbindings\u001b[38;5;241m.\u001b[39mcrypto_box_beforenm(\n\u001b[0;32m    204\u001b[0m         public_key\u001b[38;5;241m.\u001b[39mencode(encoder\u001b[38;5;241m=\u001b[39mencoding\u001b[38;5;241m.\u001b[39mRawEncoder),\n\u001b[0;32m    205\u001b[0m         private_key\u001b[38;5;241m.\u001b[39mencode(encoder\u001b[38;5;241m=\u001b[39mencoding\u001b[38;5;241m.\u001b[39mRawEncoder),\n\u001b[0;32m    206\u001b[0m     )\n",
      "\u001b[1;31mTypeError\u001b[0m: Box must be created from a PrivateKey and a PublicKey"
     ]
    }
   ],
   "source": [
    "from nacl.public import PrivateKey, Box\n",
    "from nacl.encoding import Base64Encoder\n",
    "\n",
    "sk1 = PrivateKey.generate( )\n",
    "#help( sk1.public_key )\n",
    "print( str( sk1.public_key ) )\n",
    "pk1 = sk1.public_key.encode( Base64Encoder )\n",
    "\n",
    "sk2 = PrivateKey.generate( )\n",
    "pk2 = sk2.public_key.encode( Base64Encoder )\n",
    "\n",
    "pk1 = pk1.decode( encoding=\"utf-8\" )\n",
    "pk2 = pk2.decode( encoding=\"utf-8\" )\n",
    "\n",
    "\n",
    "b1 = Box( sk1, pk2 )\n",
    "b2 = Box( sk2, pk1 )\n",
    "help( pk1 )\n",
    "message = \"hello\"\n",
    "message = Base64Encoder.encode( message )\n",
    "en_message = b1.encrypt( message )\n",
    "print( en_message )\n",
    "de_message = b2.decrypt( en_message )\n",
    "print( de_message )\n",
    "message = Base64Encoder.decode( de_message )\n",
    "print( message )"
   ]
  },
  {
   "cell_type": "code",
   "execution_count": null,
   "id": "9a857590-55a7-4344-afb0-41eb8649daac",
   "metadata": {},
   "outputs": [],
   "source": [
    "\n"
   ]
  }
 ],
 "metadata": {
  "kernelspec": {
   "display_name": "Python [conda env:base] *",
   "language": "python",
   "name": "conda-base-py"
  },
  "language_info": {
   "codemirror_mode": {
    "name": "ipython",
    "version": 3
   },
   "file_extension": ".py",
   "mimetype": "text/x-python",
   "name": "python",
   "nbconvert_exporter": "python",
   "pygments_lexer": "ipython3",
   "version": "3.12.9"
  }
 },
 "nbformat": 4,
 "nbformat_minor": 5
}
