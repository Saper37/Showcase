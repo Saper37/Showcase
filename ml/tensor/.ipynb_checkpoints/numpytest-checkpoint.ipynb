{
 "cells": [
  {
   "cell_type": "code",
   "execution_count": 2,
   "id": "cba3ac25-25d6-488c-a80f-54a13de9ba40",
   "metadata": {},
   "outputs": [
    {
     "name": "stdout",
     "output_type": "stream",
     "text": [
      "44\n"
     ]
    },
    {
     "ename": "TypeError",
     "evalue": "object of type 'PublicKey' has no len()",
     "output_type": "error",
     "traceback": [
      "\u001b[1;31m---------------------------------------------------------------------------\u001b[0m",
      "\u001b[1;31mTypeError\u001b[0m                                 Traceback (most recent call last)",
      "Cell \u001b[1;32mIn[2], line 27\u001b[0m\n\u001b[0;32m     25\u001b[0m \u001b[38;5;28mprint\u001b[39m( \u001b[38;5;28mlen\u001b[39m( encoded ) )\n\u001b[0;32m     26\u001b[0m decoded \u001b[38;5;241m=\u001b[39m PublicKey( Base64Encoder\u001b[38;5;241m.\u001b[39mdecode( encoded ) )\n\u001b[1;32m---> 27\u001b[0m \u001b[38;5;28mprint\u001b[39m( encoded, decoded, decoded \u001b[38;5;241m==\u001b[39m pk1, \u001b[38;5;28mlen\u001b[39m( encoded ), \u001b[38;5;28mlen\u001b[39m( decoded ) )\n\u001b[0;32m     29\u001b[0m box1 \u001b[38;5;241m=\u001b[39m Box( sk2, decoded )\n\u001b[0;32m     31\u001b[0m enc1 \u001b[38;5;241m=\u001b[39m box1\u001b[38;5;241m.\u001b[39mencrypt( message1 )\n",
      "\u001b[1;31mTypeError\u001b[0m: object of type 'PublicKey' has no len()"
     ]
    }
   ],
   "source": [
    "import numpy as np\n",
    "import sklearn as sk\n",
    "from nacl.public import PrivateKey, Box, PublicKey\n",
    "from nacl.encoding import Base64Encoder\n",
    "\n",
    "sk1 = PrivateKey.generate( )\n",
    "pk1 = sk1.public_key\n",
    "\n",
    "sk2 = PrivateKey.generate( )\n",
    "pk2 = sk2.public_key\n",
    "\n",
    "box1 = Box( sk1, pk2 )\n",
    "box2 = Box( sk2, pk1 )\n",
    "\n",
    "message1 = b'hello you'\n",
    "message2 = b'hello world'\n",
    "\n",
    "enc1 = box1.encrypt( message1 )\n",
    "enc2 = box2.encrypt( message2 )\n",
    "\n",
    "dec1 = box1.decrypt( enc1 )\n",
    "dec2 = box2.decrypt( enc2 )\n",
    "\n",
    "encoded = sk1.public_key.encode( Base64Encoder )\n",
    "print( len( encoded ) )\n",
    "decoded = PublicKey( Base64Encoder.decode( encoded ) )\n",
    "print( encoded, decoded, decoded == pk1, len( encoded ))\n",
    "\n",
    "box1 = Box( sk2, decoded )\n",
    "\n",
    "enc1 = box1.encrypt( message1 )\n",
    "dec1 = box1.decrypt( enc1 )\n",
    "\n",
    "print( message1, enc1, dec1 )\n",
    "\n"
   ]
  },
  {
   "cell_type": "code",
   "execution_count": null,
   "id": "7f52c972-f4f7-4805-a065-b806edbf55a8",
   "metadata": {},
   "outputs": [],
   "source": []
  }
 ],
 "metadata": {
  "kernelspec": {
   "display_name": "Python [conda env:base] *",
   "language": "python",
   "name": "conda-base-py"
  },
  "language_info": {
   "codemirror_mode": {
    "name": "ipython",
    "version": 3
   },
   "file_extension": ".py",
   "mimetype": "text/x-python",
   "name": "python",
   "nbconvert_exporter": "python",
   "pygments_lexer": "ipython3",
   "version": "3.12.9"
  }
 },
 "nbformat": 4,
 "nbformat_minor": 5
}
