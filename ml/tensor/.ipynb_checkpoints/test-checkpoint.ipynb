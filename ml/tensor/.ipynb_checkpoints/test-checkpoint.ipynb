{
 "cells": [
  {
   "cell_type": "code",
   "execution_count": 21,
   "id": "119cc727-8144-4a20-ad40-621adbd4b0fe",
   "metadata": {},
   "outputs": [
    {
     "name": "stdout",
     "output_type": "stream",
     "text": [
      "b'hello'\n",
      "b'\\r\\xd0K\\x8b\\xfd\\x86\\x9e\\xfc;R\\x8e\\xb9\\xd1\\xb3\\x05\\x8fXM\\x13\"\\x100^\\xa4S\\x81\\xab\\xed\\x9a\\x16&7\\xa2C2\\x82l\\xf9\\xed6\\x07|\\xfb\\xd2y<RETRY>\\xb0V\\x12\\xd3\\x01\\xa3\\x1cng\\x1d\\xe3?\\x10_\\x8f\\xb3\\x88\\xe7\\x905\\xfd\\xa7\\x89\\x82]\\x8e\\xc6)b\\n\\xb9\\xc0q\\x89H\\x9f.b\\x1dD\\xe3q\\xd5k\\x04' <class 'bytes'>\n",
      "[b'\\r\\xd0K\\x8b\\xfd\\x86\\x9e\\xfc;R\\x8e\\xb9\\xd1\\xb3\\x05\\x8fXM\\x13\"\\x100^\\xa4S\\x81\\xab\\xed\\x9a\\x16&7\\xa2C2\\x82l\\xf9\\xed6\\x07|\\xfb\\xd2y', b'\\xb0V\\x12\\xd3\\x01\\xa3\\x1cng\\x1d\\xe3?\\x10_\\x8f\\xb3\\x88\\xe7\\x905\\xfd\\xa7\\x89\\x82]\\x8e\\xc6)b\\n\\xb9\\xc0q\\x89H\\x9f.b\\x1dD\\xe3q\\xd5k\\x04']\n"
     ]
    },
    {
     "ename": "ValueError",
     "evalue": "The nonce must be exactly 24 bytes long",
     "output_type": "error",
     "traceback": [
      "\u001b[1;31m---------------------------------------------------------------------------\u001b[0m",
      "\u001b[1;31mValueError\u001b[0m                                Traceback (most recent call last)",
      "Cell \u001b[1;32mIn[21], line 34\u001b[0m\n\u001b[0;32m     32\u001b[0m         found \u001b[38;5;241m=\u001b[39m message\n\u001b[0;32m     33\u001b[0m \u001b[38;5;28;01mfor\u001b[39;00m x \u001b[38;5;129;01min\u001b[39;00m \u001b[38;5;28mrange\u001b[39m( \u001b[38;5;28mlen\u001b[39m( en_message ) ):\n\u001b[1;32m---> 34\u001b[0m     en_message[ x ] \u001b[38;5;241m=\u001b[39m b2\u001b[38;5;241m.\u001b[39mdecrypt( en_message )\n\u001b[0;32m     35\u001b[0m \u001b[38;5;28mprint\u001b[39m( en_message )\n",
      "File \u001b[1;32m~\\anaconda3\\Lib\\site-packages\\nacl\\public.py:295\u001b[0m, in \u001b[0;36mBox.decrypt\u001b[1;34m(self, ciphertext, nonce, encoder)\u001b[0m\n\u001b[0;32m    292\u001b[0m     ciphertext \u001b[38;5;241m=\u001b[39m ciphertext[\u001b[38;5;28mself\u001b[39m\u001b[38;5;241m.\u001b[39mNONCE_SIZE :]\n\u001b[0;32m    294\u001b[0m \u001b[38;5;28;01mif\u001b[39;00m \u001b[38;5;28mlen\u001b[39m(nonce) \u001b[38;5;241m!=\u001b[39m \u001b[38;5;28mself\u001b[39m\u001b[38;5;241m.\u001b[39mNONCE_SIZE:\n\u001b[1;32m--> 295\u001b[0m     \u001b[38;5;28;01mraise\u001b[39;00m exc\u001b[38;5;241m.\u001b[39mValueError(\n\u001b[0;32m    296\u001b[0m         \u001b[38;5;124m\"\u001b[39m\u001b[38;5;124mThe nonce must be exactly \u001b[39m\u001b[38;5;132;01m%s\u001b[39;00m\u001b[38;5;124m bytes long\u001b[39m\u001b[38;5;124m\"\u001b[39m \u001b[38;5;241m%\u001b[39m \u001b[38;5;28mself\u001b[39m\u001b[38;5;241m.\u001b[39mNONCE_SIZE\n\u001b[0;32m    297\u001b[0m     )\n\u001b[0;32m    299\u001b[0m plaintext \u001b[38;5;241m=\u001b[39m nacl\u001b[38;5;241m.\u001b[39mbindings\u001b[38;5;241m.\u001b[39mcrypto_box_open_afternm(\n\u001b[0;32m    300\u001b[0m     ciphertext,\n\u001b[0;32m    301\u001b[0m     nonce,\n\u001b[0;32m    302\u001b[0m     \u001b[38;5;28mself\u001b[39m\u001b[38;5;241m.\u001b[39m_shared_key,\n\u001b[0;32m    303\u001b[0m )\n\u001b[0;32m    305\u001b[0m \u001b[38;5;28;01mreturn\u001b[39;00m plaintext\n",
      "\u001b[1;31mValueError\u001b[0m: The nonce must be exactly 24 bytes long"
     ]
    }
   ],
   "source": [
    "import threading\n",
    "from nacl.public import PrivateKey, Box\n",
    "from nacl.encoding import Base64Encoder\n",
    "\n",
    "#t1 = threading.thread( )\n",
    "#t2 = threading.thread( )\n",
    "\n",
    "sk1 = PrivateKey.generate( )\n",
    "pk1 = sk1.public_key\n",
    "\n",
    "sk2 = PrivateKey.generate( )\n",
    "pk2 = sk2.public_key\n",
    "\n",
    "b1 = Box( sk1, pk2 )\n",
    "b2 = Box( sk2, pk1 )\n",
    "\n",
    "message = b\"hello\"\n",
    "#message = Base64Encoder.encode( message )\n",
    "print( message )\n",
    "\n",
    "en_message = b1.encrypt( message ) \n",
    "en_message += b'<RETRY>'\n",
    "en_message += b1.encrypt( message )\n",
    "print( en_message, type( en_message ) )\n",
    "en_message = en_message.split( b'<RETRY>' )\n",
    "print( en_message )\n",
    "found, same = None, False\n",
    "for message in en_message:\n",
    "    if found == None:\n",
    "        found = message\n",
    "    elif message == found:\n",
    "        found = message\n",
    "for x in range( len( en_message ) ):\n",
    "    en_message[ x ] = b2.decrypt( en_message[ x ] )\n",
    "print( en_message )\n",
    "\n"
   ]
  },
  {
   "cell_type": "code",
   "execution_count": null,
   "id": "b24e126b-50f7-4bb3-9aa8-d1a866809fe2",
   "metadata": {},
   "outputs": [],
   "source": []
  }
 ],
 "metadata": {
  "kernelspec": {
   "display_name": "Python [conda env:base] *",
   "language": "python",
   "name": "conda-base-py"
  },
  "language_info": {
   "codemirror_mode": {
    "name": "ipython",
    "version": 3
   },
   "file_extension": ".py",
   "mimetype": "text/x-python",
   "name": "python",
   "nbconvert_exporter": "python",
   "pygments_lexer": "ipython3",
   "version": "3.12.9"
  }
 },
 "nbformat": 4,
 "nbformat_minor": 5
}
