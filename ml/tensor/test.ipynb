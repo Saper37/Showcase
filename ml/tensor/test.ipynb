{
 "cells": [
  {
   "cell_type": "code",
   "execution_count": 23,
   "id": "119cc727-8144-4a20-ad40-621adbd4b0fe",
   "metadata": {},
   "outputs": [
    {
     "name": "stdout",
     "output_type": "stream",
     "text": [
      "b'hello'\n",
      "b'\\xdbs\\xc3W\\x07\\x7fA\\xe9\\x95\\xe7\\xf1\\x7f!\\xcdKT\\x8e]Y\\x0b\\x04g\\xf8\\x1e\\x88\\xe96\"\\xb9\\xb6 \\x84\\xf1`\\x17\\xdd.=C\\x92\\xb6\\\\\\x06iz<RETRY>}\\xba\\xa7\\x9a\\x0f\\xe8S\\x91\\xdc\\xc7\\x9a\\x08\\xeff\\xe8dB\\xf5\\xd4~\\x9b\\x89$\\xc2\\x89\\xbd\\xec\\x85\\xa0}iW\\xab\\x84\\xc0\\x19D\\xdc\\xb2\\x9fO\\xa7\\xa4\\xde\\x99' <class 'bytes'>\n",
      "[b'\\xdbs\\xc3W\\x07\\x7fA\\xe9\\x95\\xe7\\xf1\\x7f!\\xcdKT\\x8e]Y\\x0b\\x04g\\xf8\\x1e\\x88\\xe96\"\\xb9\\xb6 \\x84\\xf1`\\x17\\xdd.=C\\x92\\xb6\\\\\\x06iz', b'}\\xba\\xa7\\x9a\\x0f\\xe8S\\x91\\xdc\\xc7\\x9a\\x08\\xeff\\xe8dB\\xf5\\xd4~\\x9b\\x89$\\xc2\\x89\\xbd\\xec\\x85\\xa0}iW\\xab\\x84\\xc0\\x19D\\xdc\\xb2\\x9fO\\xa7\\xa4\\xde\\x99']\n",
      "[b'hello', b'hello']\n"
     ]
    }
   ],
   "source": [
    "import threading\n",
    "from nacl.public import PrivateKey, Box\n",
    "from nacl.encoding import Base64Encoder\n",
    "\n",
    "#t1 = threading.thread( )\n",
    "#t2 = threading.thread( )\n",
    "\n",
    "sk1 = PrivateKey.generate( )\n",
    "pk1 = sk1.public_key\n",
    "\n",
    "sk2 = PrivateKey.generate( )\n",
    "pk2 = sk2.public_key\n",
    "\n",
    "b1 = Box( sk1, pk2 )\n",
    "b2 = Box( sk2, pk1 )\n",
    "\n",
    "message = b\"hello\"\n",
    "#message = Base64Encoder.encode( message )\n",
    "print( message )\n",
    "\n",
    "en_message = b1.encrypt( message ) \n",
    "en_message += b'<RETRY>'\n",
    "en_message += b1.encrypt( message )\n",
    "print( en_message, type( en_message ) )\n",
    "en_message = en_message.split( b'<RETRY>' )\n",
    "print( en_message )\n",
    "found, same = None, False\n",
    "for message in en_message:\n",
    "    if found == None:\n",
    "        found = message\n",
    "    elif message == found:\n",
    "        found = message\n",
    "for x in range( len( en_message ) ):\n",
    "    en_message[ x ] = b2.decrypt( en_message[ x ] )\n",
    "print( en_message )\n",
    "\n"
   ]
  },
  {
   "cell_type": "code",
   "execution_count": null,
   "id": "b24e126b-50f7-4bb3-9aa8-d1a866809fe2",
   "metadata": {},
   "outputs": [],
   "source": []
  }
 ],
 "metadata": {
  "kernelspec": {
   "display_name": "Python [conda env:base] *",
   "language": "python",
   "name": "conda-base-py"
  },
  "language_info": {
   "codemirror_mode": {
    "name": "ipython",
    "version": 3
   },
   "file_extension": ".py",
   "mimetype": "text/x-python",
   "name": "python",
   "nbconvert_exporter": "python",
   "pygments_lexer": "ipython3",
   "version": "3.12.9"
  }
 },
 "nbformat": 4,
 "nbformat_minor": 5
}
